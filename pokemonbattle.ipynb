{
 "cells": [
  {
   "cell_type": "code",
   "execution_count": null,
   "metadata": {},
   "outputs": [],
   "source": [
    "def battle_team(team_1, team_2, verbose=False):\n",
    "        # convert to pokemon \n",
    "        team_1 = [pokemon_dict[pokemon] for pokemon in team_1]\n",
    "        team_2 = [pokemon_dict[pokemon] for pokemon in team_2]\n",
    "        # reset all pokemon\n",
    "        for pokemon in team_1:\n",
    "            pokemon.reset()\n",
    "        for pokemon in team_2:\n",
    "            pokemon.reset()\n",
    "        rounds = 0\n",
    "        winner_list = []\n",
    "        n = 0\n",
    "        for opponent in team_2:\n",
    "            pk_health_opponent = opponent.hp\n",
    "            for i in range(n,len(team_1)):\n",
    "                if pk_health_opponent > 0:\n",
    "                    winner, round_count, pk_health_t1, pk_health_opponent = pk.runbattle(team_1[i], opponent, verbose=verbose)\n",
    "                    pk_health_opponent = pk_health_opponent\n",
    "                    winner_list.append(winner)\n",
    "                    rounds += round_count\n",
    "                    if pk_health_t1 <= 0:\n",
    "                        n += 1\n",
    "                        \n",
    "        return winner_list, rounds\n",
    "        \n",
    "winner_list, rounds = battle_team(Pokemon_team_1, Elite_four_1, verbose=True)\n",
    "print(winner_list)\n",
    "print(rounds)"
   ]
  }
 ],
 "metadata": {
  "language_info": {
   "name": "python"
  }
 },
 "nbformat": 4,
 "nbformat_minor": 2
}
